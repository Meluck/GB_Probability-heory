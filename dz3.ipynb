{
 "cells": [
  {
   "cell_type": "markdown",
   "metadata": {},
   "source": [
    "1. Даны значения зарплат из выборки выпускников: 100, 80, 75, 77, 89, 33, 45, 25, 65, 17, 30, 24, 57, 55, 70, 75, 65, 84, 90, 150. Посчитать (желательно без использования статистических методов наподобие std, var, mean) среднее арифметическое, среднее квадратичное отклонение, смещенную и несмещенную оценки дисперсий для данной выборки."
   ]
  },
  {
   "cell_type": "code",
   "execution_count": 1,
   "metadata": {},
   "outputs": [],
   "source": [
    "import numpy as np\n",
    "import traceback"
   ]
  },
  {
   "cell_type": "code",
   "execution_count": 45,
   "metadata": {},
   "outputs": [],
   "source": [
    "def my_mean(arr):\n",
    "    try:\n",
    "        if not isinstance(arr, np.ndarray):\n",
    "            arr = np.asarray(arr)\n",
    "        return np.sum(arr)/arr.size\n",
    "    except:\n",
    "        print(traceback.format_exc())\n",
    "\n",
    "def my_var(arr):\n",
    "    try:\n",
    "        if not isinstance(arr, np.ndarray):\n",
    "            arr = np.asarray(arr)\n",
    "        return my_mean(abs(arr - my_mean(arr))**2)\n",
    "    except:\n",
    "        print(traceback.format_exc())    \n",
    "\n",
    "def my_std(arr):\n",
    "    try:\n",
    "        if not isinstance(arr, np.ndarray):\n",
    "            arr = np.asarray(arr)\n",
    "        return np.sqrt(my_var(arr))\n",
    "    except:\n",
    "        print(traceback.format_exc())\n",
    "\n",
    "def my_s2(arr):\n",
    "    try:\n",
    "        if not isinstance(arr, np.ndarray):\n",
    "            arr = np.asarray(arr)\n",
    "        return my_var(arr) / arr.size\n",
    "    except:\n",
    "        print(traceback.format_exc())\n",
    "   \n",
    "\n",
    "def my_s2_no_shift(arr):\n",
    "    try:\n",
    "        if not isinstance(arr, np.ndarray):\n",
    "            arr = np.asarray(arr)\n",
    "        return my_var(arr) / (arr.size - 1)\n",
    "    except:\n",
    "        print(traceback.format_exc())\n"
   ]
  },
  {
   "cell_type": "code",
   "execution_count": 46,
   "metadata": {},
   "outputs": [
    {
     "name": "stdout",
     "output_type": "stream",
     "text": [
      "True\n",
      "my_mean(salary) = 65.3\n",
      "True\n",
      "my_var(salary) = 950.11\n",
      "True\n",
      "my_std(salary) = 30.823854398825596\n",
      "my_s2(salary) = 47.5055\n",
      "my_s2_no_shift(salary) = 50.00578947368421\n"
     ]
    }
   ],
   "source": [
    "salary = [100, 80, 75, 77, 89, 33, 45, 25, 65, 17, 30, 24, 57, 55, 70, 75, 65, 84, 90, 150]\n",
    "\n",
    "print(my_mean(salary) == np.mean(salary))\n",
    "print(f'{my_mean(salary) = }')\n",
    "\n",
    "print(my_var(salary) == np.var(salary))\n",
    "print(f'{my_var(salary) = }')\n",
    "\n",
    "print(my_std(salary) == np.std(salary))\n",
    "print(f'{my_std(salary) = }')\n",
    "\n",
    "print(f'{my_s2(salary) = }')\n",
    "print(f'{my_s2_no_shift(salary) = }')\n",
    "\n"
   ]
  },
  {
   "cell_type": "markdown",
   "metadata": {},
   "source": [
    "2. В первом ящике находится 8 мячей, из которых 5 - белые. \n",
    "Во втором ящике - 12 мячей, из которых 5 белых. \n",
    "Из первого ящика вытаскивают случайным образом два мяча, из второго - 4. \n",
    "Какова вероятность того, что 3 мяча белые?"
   ]
  },
  {
   "cell_type": "code",
   "execution_count": 47,
   "metadata": {},
   "outputs": [],
   "source": [
    "from math import factorial\n",
    "def combinations(n, k):\n",
    "    return int(factorial(n) / (factorial(k) * factorial(n - k)))"
   ]
  },
  {
   "cell_type": "code",
   "execution_count": 53,
   "metadata": {},
   "outputs": [
    {
     "name": "stdout",
     "output_type": "stream",
     "text": [
      "0.025252525252525256\n"
     ]
    }
   ],
   "source": [
    "# варианты: 0 - 3, 1 - 2, 2 - 1\n",
    "C = combinations\n",
    "res = (1 - C(3, 1) / C(8, 2)) * C(5, 3) / C(12, 4) + \\\n",
    "      C(5, 1) / C(8, 2) * C(5, 2) / C(12, 4) + \\\n",
    "      C(5, 2) / C(8, 2) * C(5, 1) / C(12, 4)\n",
    "print(res)"
   ]
  },
  {
   "cell_type": "markdown",
   "metadata": {},
   "source": [
    "3. На соревновании по биатлону один из трех спортсменов стреляет и попадает в мишень. Вероятность попадания для первого спортсмена равна 0.9, для второго — 0.8, для третьего — 0.6. Найти вероятность того, что выстрел произведен: a). первым спортсменом б). вторым спортсменом в). третьим спортсменом."
   ]
  },
  {
   "cell_type": "code",
   "execution_count": 59,
   "metadata": {},
   "outputs": [
    {
     "name": "stdout",
     "output_type": "stream",
     "text": [
      "Вероятность для первого спортсмена: 0.3913043478260869\n",
      "Вероятность для второго спортсмена: 0.34782608695652173\n",
      "Вероятность для третьего спортсмена: 0.26086956521739124\n"
     ]
    }
   ],
   "source": [
    "# P(B|A) = P(AB) / P(A)\n",
    "# А - мишень поражена, В - стрелял i-й спортсмен\n",
    "# a) \n",
    "P_AB1 = 0.9 * 1/C(3, 1)\n",
    "P_AB2 = 0.8 * 1/C(3, 1)\n",
    "P_AB3 = 0.6 * 1/C(3, 1)\n",
    "\n",
    "P_A = (0.9 + 0.8 + 0.6)*1/3\n",
    "P_BIA = P_AB1 / P_A\n",
    "print(f'Вероятность для первого спортсмена: {P_BIA}')\n",
    "P_BIA = P_AB2 / P_A\n",
    "print(f'Вероятность для второго спортсмена: {P_BIA}')\n",
    "P_BIA = P_AB3 / P_A\n",
    "print(f'Вероятность для третьего спортсмена: {P_BIA}')"
   ]
  },
  {
   "cell_type": "markdown",
   "metadata": {},
   "source": [
    "4. В университет на факультеты A и B поступило равное количество студентов, а на факультет C студентов поступило столько же, сколько на A и B вместе. Вероятность того, что студент факультета A сдаст первую сессию, равна 0.8. Для студента факультета B эта вероятность равна 0.7, а для студента факультета C - 0.9. Студент сдал первую сессию. Какова вероятность, что он учится: a). на факультете A б). на факультете B в). на факультете C?"
   ]
  },
  {
   "cell_type": "code",
   "execution_count": 61,
   "metadata": {},
   "outputs": [
    {
     "name": "stdout",
     "output_type": "stream",
     "text": [
      "Вероятность, что студент с факультета А: 0.5454545454545455\n",
      "Вероятность, что студент с факультета В: 0.21212121212121213\n",
      "Вероятность, что студент с факультета С: 0.5454545454545455\n"
     ]
    }
   ],
   "source": [
    "A = B = 100\n",
    "C = 2*A\n",
    "# A - студент сдал сессию\n",
    "P_A = 1/4*0.8 + 1/4*0.7 + 1/2*0.9\n",
    "P_AB1 = 1/4*0.8\n",
    "P_AB2 = 1/4*0.7\n",
    "P_AB3 = 1/2*0.9\n",
    "\n",
    "print(f'Вероятность, что студент с факультета А: {P_BIA}')\n",
    "P_BIA = P_AB2 / P_A\n",
    "print(f'Вероятность, что студент с факультета В: {P_BIA}')\n",
    "P_BIA = P_AB3 / P_A\n",
    "print(f'Вероятность, что студент с факультета С: {P_BIA}')\n",
    "P_BIA = P_AB3 / P_A"
   ]
  },
  {
   "cell_type": "markdown",
   "metadata": {},
   "source": [
    "Даны значения зарплат из выборки выпускников: 100, 80, 75, 77, 89, 33, 45, 25, 65, 17, 30, 24, 57, 55, 70, 75, 65, 84, 90, 150. Посчитать (желательно без использования статистических методов наподобие std, var, mean) среднее арифметическое, среднее квадратичное отклонение, смещенную и несмещенную оценки дисперсий для данной выборки.\n",
    "В первом ящике находится 8 мячей, из которых 5 - белые. Во втором ящике - 12 мячей, из которых 5 белых. Из первого ящика вытаскивают случайным образом два мяча, из второго - 4. Какова вероятность того, что 3 мяча белые?\n",
    "На соревновании по биатлону один из трех спортсменов стреляет и попадает в мишень. Вероятность попадания для первого спортсмена равна 0.9, для второго — 0.8, для третьего — 0.6. Найти вероятность того, что выстрел произведен: a). первым спортсменом б). вторым спортсменом в). третьим спортсменом.\n",
    "В университет на факультеты A и B поступило равное количество студентов, а на факультет C студентов поступило столько же, сколько на A и B вместе. Вероятность того, что студент факультета A сдаст первую сессию, равна 0.8. Для студента факультета B эта вероятность равна 0.7, а для студента факультета C - 0.9. Студент сдал первую сессию. Какова вероятность, что он учится: a). на факультете A б). на факультете B в). на факультете C?\n",
    "Устройство состоит из трех деталей. Для первой детали вероятность выйти из строя в первый месяц равна 0.1, для второй - 0.2, для третьей - 0.25. Какова вероятность того, что в первый месяц выйдут из строя: а). все детали б). только две детали в). хотя бы одна деталь г). от одной до двух деталей?"
   ]
  }
 ],
 "metadata": {
  "kernelspec": {
   "display_name": "Python 3.8.8 ('base')",
   "language": "python",
   "name": "python3"
  },
  "language_info": {
   "codemirror_mode": {
    "name": "ipython",
    "version": 3
   },
   "file_extension": ".py",
   "mimetype": "text/x-python",
   "name": "python",
   "nbconvert_exporter": "python",
   "pygments_lexer": "ipython3",
   "version": "3.8.8"
  },
  "orig_nbformat": 4,
  "vscode": {
   "interpreter": {
    "hash": "7758e92e9a61d7a3490898707f7eeb937c85e9d1e8d4e877cc6c187218f226d5"
   }
  }
 },
 "nbformat": 4,
 "nbformat_minor": 2
}
